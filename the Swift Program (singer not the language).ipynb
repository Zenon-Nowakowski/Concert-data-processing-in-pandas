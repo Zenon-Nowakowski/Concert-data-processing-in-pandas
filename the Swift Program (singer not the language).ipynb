{
 "cells": [
  {
   "cell_type": "code",
   "execution_count": 1,
   "id": "7294bf93",
   "metadata": {},
   "outputs": [],
   "source": [
    "import pandas as pd\n",
    "import numpy as np"
   ]
  },
  {
   "cell_type": "code",
   "execution_count": 2,
   "id": "d9e7384f",
   "metadata": {
    "scrolled": true
   },
   "outputs": [],
   "source": [
    "#part 1, load the json file\n",
    "swiftdf = pd.read_json('swift.json', lines=True)"
   ]
  },
  {
   "cell_type": "code",
   "execution_count": 3,
   "id": "737c53ad",
   "metadata": {},
   "outputs": [],
   "source": [
    "#part 2, export to csv\n",
    "swiftdf.to_csv('swift.csv', index=True)"
   ]
  },
  {
   "cell_type": "code",
   "execution_count": 4,
   "id": "efd8fc7a",
   "metadata": {},
   "outputs": [
    {
     "data": {
      "text/html": [
       "<div>\n",
       "<style scoped>\n",
       "    .dataframe tbody tr th:only-of-type {\n",
       "        vertical-align: middle;\n",
       "    }\n",
       "\n",
       "    .dataframe tbody tr th {\n",
       "        vertical-align: top;\n",
       "    }\n",
       "\n",
       "    .dataframe thead th {\n",
       "        text-align: right;\n",
       "    }\n",
       "</style>\n",
       "<table border=\"1\" class=\"dataframe\">\n",
       "  <thead>\n",
       "    <tr style=\"text-align: right;\">\n",
       "      <th></th>\n",
       "      <th>date</th>\n",
       "      <th>city</th>\n",
       "      <th>venue</th>\n",
       "      <th>attendance</th>\n",
       "      <th>revenue</th>\n",
       "    </tr>\n",
       "  </thead>\n",
       "  <tbody>\n",
       "    <tr>\n",
       "      <th>4</th>\n",
       "      <td>2023-03-31</td>\n",
       "      <td>Arlington</td>\n",
       "      <td>AT&amp;T Stadium</td>\n",
       "      <td>105002</td>\n",
       "      <td>26702008.6</td>\n",
       "    </tr>\n",
       "    <tr>\n",
       "      <th>5</th>\n",
       "      <td>2023-04-01</td>\n",
       "      <td>Arlington</td>\n",
       "      <td>AT&amp;T Stadium</td>\n",
       "      <td>105002</td>\n",
       "      <td>26702008.6</td>\n",
       "    </tr>\n",
       "    <tr>\n",
       "      <th>6</th>\n",
       "      <td>2023-04-02</td>\n",
       "      <td>Arlington</td>\n",
       "      <td>AT&amp;T Stadium</td>\n",
       "      <td>105002</td>\n",
       "      <td>26702008.6</td>\n",
       "    </tr>\n",
       "  </tbody>\n",
       "</table>\n",
       "</div>"
      ],
      "text/plain": [
       "        date       city         venue  attendance     revenue\n",
       "4 2023-03-31  Arlington  AT&T Stadium      105002  26702008.6\n",
       "5 2023-04-01  Arlington  AT&T Stadium      105002  26702008.6\n",
       "6 2023-04-02  Arlington  AT&T Stadium      105002  26702008.6"
      ]
     },
     "execution_count": 4,
     "metadata": {},
     "output_type": "execute_result"
    }
   ],
   "source": [
    "#part 3, find the most popular shows by attendance\n",
    "swiftdf[swiftdf['attendance']==swiftdf['attendance'].max()]"
   ]
  },
  {
   "cell_type": "code",
   "execution_count": 5,
   "id": "007c25db",
   "metadata": {},
   "outputs": [
    {
     "data": {
      "text/plain": [
       "1143297452.3000002"
      ]
     },
     "execution_count": 5,
     "metadata": {},
     "output_type": "execute_result"
    }
   ],
   "source": [
    "#part 4, total revenue from her tour\n",
    "swiftdf['revenue'].sum()"
   ]
  },
  {
   "cell_type": "code",
   "execution_count": 7,
   "id": "df9fdc0e",
   "metadata": {},
   "outputs": [
    {
     "data": {
      "text/html": [
       "<div>\n",
       "<style scoped>\n",
       "    .dataframe tbody tr th:only-of-type {\n",
       "        vertical-align: middle;\n",
       "    }\n",
       "\n",
       "    .dataframe tbody tr th {\n",
       "        vertical-align: top;\n",
       "    }\n",
       "\n",
       "    .dataframe thead th {\n",
       "        text-align: right;\n",
       "    }\n",
       "</style>\n",
       "<table border=\"1\" class=\"dataframe\">\n",
       "  <thead>\n",
       "    <tr style=\"text-align: right;\">\n",
       "      <th></th>\n",
       "      <th>attendance</th>\n",
       "      <th>revenue</th>\n",
       "    </tr>\n",
       "    <tr>\n",
       "      <th>city</th>\n",
       "      <th></th>\n",
       "      <th></th>\n",
       "    </tr>\n",
       "  </thead>\n",
       "  <tbody>\n",
       "    <tr>\n",
       "      <th>Inglewood</th>\n",
       "      <td>544578</td>\n",
       "      <td>138486185.4</td>\n",
       "    </tr>\n",
       "    <tr>\n",
       "      <th>Arlington</th>\n",
       "      <td>315006</td>\n",
       "      <td>80106025.8</td>\n",
       "    </tr>\n",
       "    <tr>\n",
       "      <th>Nashville</th>\n",
       "      <td>299628</td>\n",
       "      <td>76195400.4</td>\n",
       "    </tr>\n",
       "    <tr>\n",
       "      <th>Foxborough</th>\n",
       "      <td>299628</td>\n",
       "      <td>76195400.4</td>\n",
       "    </tr>\n",
       "    <tr>\n",
       "      <th>East Rutherford</th>\n",
       "      <td>266286</td>\n",
       "      <td>67716529.8</td>\n",
       "    </tr>\n",
       "  </tbody>\n",
       "</table>\n",
       "</div>"
      ],
      "text/plain": [
       "                 attendance      revenue\n",
       "city                                    \n",
       "Inglewood            544578  138486185.4\n",
       "Arlington            315006   80106025.8\n",
       "Nashville            299628   76195400.4\n",
       "Foxborough           299628   76195400.4\n",
       "East Rutherford      266286   67716529.8"
      ]
     },
     "execution_count": 7,
     "metadata": {},
     "output_type": "execute_result"
    }
   ],
   "source": [
    "#part 5, find the top 5 cities by revenue\n",
    "#making a revenue df \n",
    "revenuedf = swiftdf.groupby('city').sum('revenue')\n",
    "#sort the revenue dataframe by revenue and get the head of this new df\n",
    "revenuedf.sort_values(['revenue'],ascending=[False]).head()\n",
    "#this also gives us the total attendance, but it is sorted for revenue"
   ]
  },
  {
   "cell_type": "code",
   "execution_count": 28,
   "id": "99436338",
   "metadata": {},
   "outputs": [
    {
     "name": "stdout",
     "output_type": "stream",
     "text": [
      "            attendance       revenue\n",
      "city                                \n",
      "Houston  263949.333333  6.712223e+07\n"
     ]
    }
   ],
   "source": [
    "#averaged out how many attended her show in Houston TX, and assume that she has a similar audiance attandence to the average from those shows\n",
    "#swiftdf.groupby('city').mean('attendance')\n",
    "#swiftdf[swiftdf['city']=='Houston']\n",
    "Swift_in_Houston = swiftdf[swiftdf['city']=='Houston']\n",
    "length = len(Swift_in_Houston)\n",
    "Houston_Attendance=Swift_in_Houston.groupby('city').mean('attendance')\n",
    "#mutiplied by the length of the Swift_in_Houston dataframe, add one more show, then divide by the number of shows in Texas thus far\n",
    "Houston_Attendance = Houston_Attendance*length+1/length\n",
    "print(Houston_Attendance)\n",
    "#space for peace of mind "
   ]
  },
  {
   "cell_type": "code",
   "execution_count": null,
   "id": "1fa4d0bb",
   "metadata": {},
   "outputs": [],
   "source": []
  }
 ],
 "metadata": {
  "kernelspec": {
   "display_name": "Python 3 (ipykernel)",
   "language": "python",
   "name": "python3"
  },
  "language_info": {
   "codemirror_mode": {
    "name": "ipython",
    "version": 3
   },
   "file_extension": ".py",
   "mimetype": "text/x-python",
   "name": "python",
   "nbconvert_exporter": "python",
   "pygments_lexer": "ipython3",
   "version": "3.11.5"
  }
 },
 "nbformat": 4,
 "nbformat_minor": 5
}
